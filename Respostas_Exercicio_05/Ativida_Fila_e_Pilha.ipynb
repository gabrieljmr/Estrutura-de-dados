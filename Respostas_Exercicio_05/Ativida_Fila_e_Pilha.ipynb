{
  "nbformat": 4,
  "nbformat_minor": 0,
  "metadata": {
    "colab": {
      "provenance": [],
      "authorship_tag": "ABX9TyNTbfGxe4gCuKyu8QKv9Vdo",
      "include_colab_link": true
    },
    "kernelspec": {
      "name": "python3",
      "display_name": "Python 3"
    },
    "language_info": {
      "name": "python"
    }
  },
  "cells": [
    {
      "cell_type": "markdown",
      "metadata": {
        "id": "view-in-github",
        "colab_type": "text"
      },
      "source": [
        "<a href=\"https://colab.research.google.com/github/Joaovictorcd9/AtividadeNisston/blob/main/Ativida_Fila_e_Pilha.ipynb\" target=\"_parent\"><img src=\"https://colab.research.google.com/assets/colab-badge.svg\" alt=\"Open In Colab\"/></a>"
      ]
    },
    {
      "cell_type": "code",
      "execution_count": null,
      "metadata": {
        "id": "WWm7anldX3x1"
      },
      "outputs": [],
      "source": [
        "#Questão 1:\n",
        "class FilaDeImpressao:\n",
        "    def __init__(self):\n",
        "        self.fila = []\n",
        "\n",
        "    def adicionar_documento(self, documento):\n",
        "        self.fila.append(documento)\n",
        "\n",
        "    def imprimir_documentos(self):\n",
        "        if not self.fila:\n",
        "            print(\"Fila de impressão vazia. Nenhum documento para imprimir.\")\n",
        "        else:\n",
        "            print(\"Imprimindo documentos:\")\n",
        "            for documento in self.fila:\n",
        "                print(f\" - {documento}\")\n",
        "            print(\"Todos os documentos foram impressos.\")\n",
        "            self.fila = []  # Limpa a fila após a impressão\n"
      ]
    },
    {
      "cell_type": "code",
      "source": [
        "#Questão 2:\n",
        "class FilaDeAtendimento:\n",
        "    def __init__(self):\n",
        "        self.fila = []\n",
        "\n",
        "    def entrar_na_fila(self, cliente):\n",
        "        self.fila.append(cliente)\n",
        "\n",
        "    def atender_clientes(self):\n",
        "        if not self.fila:\n",
        "            print(\"Não há clientes na fila de atendimento.\")\n",
        "        else:\n",
        "            print(\"Atendendo os clientes na ordem de chegada:\")\n",
        "            for cliente in self.fila:\n",
        "                print(f\"Atendendo o cliente: {cliente}\")\n",
        "            print(\"Todos os clientes foram atendidos.\")\n",
        "            self.fila = []  # Limpa a fila após o atendimento"
      ],
      "metadata": {
        "id": "OEsULlW6YMdh"
      },
      "execution_count": null,
      "outputs": []
    },
    {
      "cell_type": "code",
      "source": [
        "#Questão 3:\n",
        " class GerenciadorPedidos:\n",
        "    def __init__(self):\n",
        "        self.fila_de_pedidos = []\n",
        "\n",
        "    def adicionar_pedido(self, pedido):\n",
        "        self.fila_de_pedidos.append(pedido)\n",
        "        print(f\"Pedido {pedido} adicionado à fila.\")\n",
        "\n",
        "    def processar_pedidos(self):\n",
        "        if not self.fila_de_pedidos:\n",
        "            print(\"Não há pedidos para processar no momento.\")\n",
        "        else:\n",
        "            print(\"Processando pedidos na ordem de chegada:\")\n",
        "            for pedido in self.fila_de_pedidos:\n",
        "                print(f\" - Preparando pedido: {pedido}\")\n",
        "            print(\"Todos os pedidos foram processados.\")\n",
        "            self.fila_de_pedidos = []  # Limpa a fila após o processamento\n"
      ],
      "metadata": {
        "colab": {
          "base_uri": "https://localhost:8080/",
          "height": 140
        },
        "id": "puk15TigYX1Y",
        "outputId": "3cabf4aa-7146-4aa3-cde0-91814e42bc67"
      },
      "execution_count": null,
      "outputs": [
        {
          "output_type": "error",
          "ename": "IndentationError",
          "evalue": "ignored",
          "traceback": [
            "\u001b[0;36m  File \u001b[0;32m\"<ipython-input-7-5c7f294d07e1>\"\u001b[0;36m, line \u001b[0;32m2\u001b[0m\n\u001b[0;31m    class GerenciadorPedidos:\u001b[0m\n\u001b[0m    ^\u001b[0m\n\u001b[0;31mIndentationError\u001b[0m\u001b[0;31m:\u001b[0m unexpected indent\n"
          ]
        }
      ]
    },
    {
      "cell_type": "code",
      "source": [
        "#Questão 4:\n",
        "class ListaDeTarefas:\n",
        "    def __init__(self):\n",
        "        self.fila_de_tarefas = []\n",
        "\n",
        "    def adicionar_tarefa(self, tarefa):\n",
        "        self.fila_de_tarefas.append(tarefa)\n",
        "        print(f\"Tarefa '{tarefa}' adicionada à lista de tarefas.\")\n",
        "\n",
        "    def concluir_tarefas(self):\n",
        "        if not self.fila_de_tarefas:\n",
        "            print(\"Não há tarefas pendentes para concluir.\")\n",
        "        else:\n",
        "            print(\"Concluindo tarefas na ordem de chegada:\")\n",
        "            while self.fila_de_tarefas:\n",
        "                tarefa_atual = self.fila_de_tarefas.pop(0)\n",
        "                print(f\" - Concluindo: {tarefa_atual}\")\n",
        "            print(\"Todas as tarefas foram concluídas.\")"
      ],
      "metadata": {
        "id": "xuY2WYmCYwnm"
      },
      "execution_count": null,
      "outputs": []
    },
    {
      "cell_type": "code",
      "source": [
        "#Questão 5:\n",
        "class FilaDePedidosOnline:\n",
        "    def __init__(self):\n",
        "        self.fila_de_pedidos = []\n",
        "\n",
        "    def adicionar_pedido(self, pedido):\n",
        "        self.fila_de_pedidos.append(pedido)\n",
        "        print(f\"Pedido online {pedido} adicionado à fila.\")\n",
        "\n",
        "    def processar_pedidos(self):\n",
        "        if not self.fila_de_pedidos:\n",
        "            print(\"Não há pedidos online para processar no momento.\")\n",
        "        else:\n",
        "            print(\"Processando pedidos online na ordem de chegada:\")\n",
        "            for pedido in self.fila_de_pedidos:\n",
        "                print(f\" - Processando pedido online: {pedido}\")\n",
        "            print(\"Todos os pedidos online foram processados.\")\n",
        "            self.fila_de_pedidos = []  # Limpa a fila após o processamento\n"
      ],
      "metadata": {
        "id": "0ALT9J6DZEYF"
      },
      "execution_count": null,
      "outputs": []
    },
    {
      "cell_type": "code",
      "source": [
        "#Questão 6:\n",
        "class FilaDePedidosOnline:\n",
        "    def __init__(self):\n",
        "        self.fila_de_pedidos = []\n",
        "\n",
        "    def adicionar_pedido(self, pedido):\n",
        "        self.fila_de_pedidos.append(pedido)\n",
        "        print(f\"Pedido online {pedido} adicionado à fila.\")\n",
        "\n",
        "    def processar_pedidos(self):\n",
        "        if not self.fila_de_pedidos:\n",
        "            print(\"Não há pedidos online para processar no momento.\")\n",
        "        else:\n",
        "            print(\"Processando pedidos online na ordem de chegada:\")\n",
        "            for pedido in self.fila_de_pedidos:\n",
        "                print(f\" - Processando pedido online: {pedido}\")\n",
        "            print(\"Todos os pedidos online foram processados.\")\n",
        "            self.fila_de_pedidos = []  # Limpa a fila após o processamento"
      ],
      "metadata": {
        "id": "jhqjhkAUZTcT"
      },
      "execution_count": null,
      "outputs": []
    },
    {
      "cell_type": "code",
      "source": [
        "#Questão 7:\n",
        "class CalculadoraRPN:\n",
        "    def __init__(self):\n",
        "        self.pilha = []\n",
        "\n",
        "    def calcular(self, expressao):\n",
        "        tokens = expressao.split()\n",
        "        for token in tokens:\n",
        "            if token.isdigit() or (token[0] == '-' and token[1:].isdigit()):\n",
        "\n",
        "                self.pilha.append(float(token))\n",
        "            else:\n",
        "\n",
        "                if len(self.pilha) < 2:\n",
        "                    raise ValueError(\"Expressão inválida: número insuficiente de operandos.\")\n",
        "                b = self.pilha.pop()\n",
        "                a = self.pilha.pop()\n",
        "                resultado = self.realizar_operacao(token, a, b)\n",
        "                self.pilha.append(resultado)\n",
        "\n",
        "        if len(self.pilha) != 1:\n",
        "            raise ValueError(\"Expressão inválida: número incorreto de operadores.\")\n",
        "\n",
        "        return self.pilha[0]\n",
        "\n",
        "    def realizar_operacao(self, operador, a, b):\n",
        "        if operador == '+':\n",
        "            return a + b\n",
        "        elif operador == '-':\n",
        "            return a - b\n",
        "        elif operador == '*':\n",
        "            return a * b\n",
        "        elif operador == '/':\n",
        "            if b == 0:\n",
        "                raise ValueError(\"Divisão por zero.\")\n",
        "            return a / b\n",
        "        else:\n",
        "            raise ValueError(f\"Operador inválido: {operador}\")\n"
      ],
      "metadata": {
        "id": "AVjzfsV7Zi6z"
      },
      "execution_count": null,
      "outputs": []
    },
    {
      "cell_type": "code",
      "source": [
        "#Questão 8:\n",
        "class EditorDeTexto:\n",
        "    def __init__(self):\n",
        "        self.texto = \"\"\n",
        "        self.historico_undo = []  # Pilha para \"Desfazer\"\n",
        "        self.historico_redo = []  # Pilha para \"Refazer\"\n",
        "\n",
        "    def adicionar_texto(self, novo_texto):\n",
        "        self.historico_undo.append(self.texto)\n",
        "        self.texto += novo_texto\n",
        "        self.historico_redo = []  # Limpar histórico de \"Refazer\" ao adicionar novo texto\n",
        "\n",
        "    def desfazer(self):\n",
        "        if self.historico_undo:\n",
        "            ultimo_estado = self.historico_undo.pop()\n",
        "            self.historico_redo.append(self.texto)\n",
        "            self.texto = ultimo_estado\n",
        "            print(\"Desfeito.\")\n",
        "\n",
        "    def refazer(self):\n",
        "        if self.historico_redo:\n",
        "            proximo_estado = self.historico_redo.pop()\n",
        "            self.historico_undo.append(self.texto)\n",
        "            self.texto = proximo_estado\n",
        "            print(\"Refeito.\")\n",
        "\n",
        "    def imprimir_texto(self):\n",
        "        print(\"Texto Atual:\", self.texto)"
      ],
      "metadata": {
        "id": "0-Rh98jpZ8H9"
      },
      "execution_count": null,
      "outputs": []
    },
    {
      "cell_type": "code",
      "source": [
        "#Questão 8:\n",
        "class OperadoresMatematicos:\n",
        "    def __init__(self):\n",
        "        self.pilha = []\n",
        "\n",
        "    def identificar_operadores(self, expressao):\n",
        "        operadores = set(\"+-*/^\")\n",
        "        for caractere in expressao:\n",
        "            if caractere in operadores:\n",
        "                self.pilha.append(caractere)\n",
        "\n",
        "    def listar_operadores(self):\n",
        "        print(\"Operadores encontrados na expressão:\")\n",
        "        while self.pilha:\n",
        "            print(self.pilha.pop())\n"
      ],
      "metadata": {
        "id": "AtErgmLQaNdA"
      },
      "execution_count": null,
      "outputs": []
    },
    {
      "cell_type": "code",
      "source": [
        "#Questão 10:\n",
        "class VerificadorDePalindromo:\n",
        "    def __init__(self):\n",
        "        self.pilha = []\n",
        "\n",
        "    def limpar_texto(self, texto):\n",
        "        # Remove espaços, pontuações e converte para minúsculas\n",
        "        return ''.join(char.lower() for char in texto if char.isalnum())\n",
        "\n",
        "    def verificar_palindromo(self, texto):\n",
        "        texto_limpo = self.limpar_texto(texto)\n",
        "        for char in texto_limpo:\n",
        "            self.pilha.append(char)\n",
        "\n",
        "        inverso = ''.join(self.pilha.pop() for _ in range(len(texto_limpo)))\n",
        "\n",
        "        return texto_limpo == inverso\n"
      ],
      "metadata": {
        "id": "v1zdDLZzadXZ"
      },
      "execution_count": null,
      "outputs": []
    }
  ]
}